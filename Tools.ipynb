{
  "nbformat": 4,
  "nbformat_minor": 0,
  "metadata": {
    "colab": {
      "provenance": []
    },
    "kernelspec": {
      "name": "python3",
      "display_name": "Python 3"
    },
    "language_info": {
      "name": "python"
    }
  },
  "cells": [
    {
      "cell_type": "markdown",
      "source": [],
      "metadata": {
        "id": "C3LyIbJrEa96"
      }
    },
    {
      "cell_type": "code",
      "execution_count": null,
      "metadata": {
        "id": "swuheyyxETqO"
      },
      "outputs": [],
      "source": [
        "from langchain.tools import tool\n",
        "\n",
        "@tool\n",
        "def read_python_file(program_name: str) -> str:\n",
        "    \"\"\"\n",
        "    Reads a Python (.py) file from the 'Code-Refactoring-Quixbugs/python_programs/' directory\n",
        "    given the program name (without .py extension) and returns its contents as a string.\n",
        "    \"\"\"\n",
        "    path = f\"/content/Code-Refactoring-QuixBugs/python_programs/{program_name}.py\"\n",
        "    with open(path, 'r') as f:\n",
        "        return f.read()\n"
      ]
    },
    {
      "cell_type": "code",
      "source": [
        "@tool\n",
        "def write_fixed_python_file(program_name: str, updated_code: str) -> str:\n",
        "    \"\"\"\n",
        "    Writes the given updated Python code to a file in the\n",
        "    'Code-Refactoring-Quixbugs/fixed_programs/' directory with the same name.\n",
        "\n",
        "    Args:\n",
        "        program_name: Name of the algorithm (without .py extension).\n",
        "        updated_code: The fixed Python code as a string.\n",
        "\n",
        "    Returns:\n",
        "        Confirmation message with the path where the file was written.\n",
        "    \"\"\"\n",
        "    path = f\"/content/Code-Refactoring-QuixBugs/fixed_programs/{program_name}.py\"\n",
        "    with open(path, 'w') as f:\n",
        "        f.write(updated_code)\n",
        "    return f\"Updated code written to: {path}\"\n"
      ],
      "metadata": {
        "id": "4BZ2DKDOFA4V"
      },
      "execution_count": null,
      "outputs": []
    },
    {
      "cell_type": "code",
      "source": [
        "import os\n",
        "import subprocess\n",
        "\n",
        "@tool\n",
        "def run_testcases(program_name: str):\n",
        "    \"\"\"When given the program name, automatically runs its test cases to validate the fixed program.\"\"\"\n",
        "\n",
        "\n",
        "    fixed_folder = \"/content/Code-Refactoring-QuixBugs/fixed_programs\"\n",
        "    programs = [f[:-3] for f in os.listdir(fixed_folder) if f.endswith(\".py\")]\n",
        "\n",
        "    results = []\n",
        "\n",
        "    for program in programs:\n",
        "        if program_name != \"all\" and program != program_name:\n",
        "            continue\n",
        "\n",
        "        print(f\"\\n========================\")\n",
        "        print(f\"Testing: {program}\")\n",
        "        print(f\"========================\")\n",
        "        try:\n",
        "            output = subprocess.check_output(\n",
        "                [\"python3\", \"/content/Code-Refactoring-QuixBugs/tester2.py\", program],\n",
        "                stderr=subprocess.STDOUT,\n",
        "                text=True\n",
        "            )\n",
        "            print(output)\n",
        "            results.append((program, \"Passed or ran successfully\"))\n",
        "        except subprocess.CalledProcessError as e:\n",
        "            print(e.output)\n",
        "            results.append((program, f\"Failed\\n{e.output}\"))\n",
        "\n",
        "    return \"\\n\".join([f\"{prog}: {result}\" for prog, result in results])\n"
      ],
      "metadata": {
        "id": "JpXElrneEqmZ"
      },
      "execution_count": null,
      "outputs": []
    },
    {
      "cell_type": "code",
      "source": [
        "from langchain_community.tools.riza.command import ExecPython\n",
        "\n",
        "code_interpreter_tool = ExecPython()\n"
      ],
      "metadata": {
        "id": "qXjG66j-FLJx"
      },
      "execution_count": null,
      "outputs": []
    }
  ]
}