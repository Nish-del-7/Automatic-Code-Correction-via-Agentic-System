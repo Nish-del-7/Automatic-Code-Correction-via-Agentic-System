{
  "nbformat": 4,
  "nbformat_minor": 0,
  "metadata": {
    "colab": {
      "provenance": []
    },
    "kernelspec": {
      "name": "python3",
      "display_name": "Python 3"
    },
    "language_info": {
      "name": "python"
    }
  },
  "cells": [
    {
      "cell_type": "markdown",
      "source": [],
      "metadata": {
        "id": "C3LyIbJrEa96"
      }
    },
    {
      "cell_type": "code",
      "execution_count": null,
      "metadata": {
        "id": "swuheyyxETqO"
      },
      "outputs": [],
      "source": [
        "from langchain.agents import create_react_agent,AgentExecutor,create_tool_calling_agent\n",
        "\n"
      ]
    },
    {
      "cell_type": "code",
      "source": [
        "agent1 = create_tool_calling_agent(llm1, tools1, prompt_template1)\n",
        "agent_executor1 = AgentExecutor(agent=agent1, tools=tools1, verbose=True)\n"
      ],
      "metadata": {
        "id": "4BZ2DKDOFA4V"
      },
      "execution_count": null,
      "outputs": []
    },
    {
      "cell_type": "code",
      "source": [
        "agent2 = create_tool_calling_agent(llm2, tools2, prompt_template2)\n",
        "agent_executor2 = AgentExecutor(agent=agent2, tools=tools2, verbose=True)\n",
        "\n"
      ],
      "metadata": {
        "id": "JpXElrneEqmZ"
      },
      "execution_count": null,
      "outputs": []
    },
    {
      "cell_type": "code",
      "source": [
        "agent3 = create_tool_calling_agent(llm3, tools3, prompt_template3)\n",
        "agent_executor3 = AgentExecutor(agent=agent3, tools=tools3, verbose=True)\n"
      ],
      "metadata": {
        "id": "qXjG66j-FLJx"
      },
      "execution_count": null,
      "outputs": []
    }
  ]
}