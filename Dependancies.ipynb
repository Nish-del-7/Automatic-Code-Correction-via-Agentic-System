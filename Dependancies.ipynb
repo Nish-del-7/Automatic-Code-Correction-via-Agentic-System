{
  "nbformat": 4,
  "nbformat_minor": 0,
  "metadata": {
    "colab": {
      "provenance": []
    },
    "kernelspec": {
      "name": "python3",
      "display_name": "Python 3"
    },
    "language_info": {
      "name": "python"
    }
  },
  "cells": [
    {
      "cell_type": "markdown",
      "source": [],
      "metadata": {
        "id": "C3LyIbJrEa96"
      }
    },
    {
      "cell_type": "code",
      "execution_count": null,
      "metadata": {
        "id": "swuheyyxETqO"
      },
      "outputs": [],
      "source": [
        "pip install -U langchain-google-genai google-generativeai==0.8.5 google-ai-generativelanguage==0.6.15\n",
        "!git clone https://github.com/Nish-del-7/Code-Refactoring-QuixBugs.git\n",
        "!pip install -U langchain langchain-community\n",
        "!pip install --upgrade --quiet langchain-community rizaio\n",
        "!pip install langchain-experimental"
      ]
    },
    {
      "cell_type": "code",
      "source": [
        "# Load tester.py\n",
        "with open(\"/content/Code-Refactoring-QuixBugs/tester.py\", \"r\") as f:\n",
        "    tester_code = f.read()\n",
        "\n",
        "# Replace folder paths\n",
        "tester_code = tester_code.replace(\"python_programs/\", \"fixed_programs/\")\n",
        "tester_code = tester_code.replace(\"json_testcases/\", \"/content/Code-Refactoring-QuixBugs/json_testcases/\")\n",
        "\n",
        "# Save as tester2.py\n",
        "with open(\"/content/Code-Refactoring-QuixBugs/tester2.py\", \"w\") as f:\n",
        "    f.write("
      ],
      "metadata": {
        "id": "JpXElrneEqmZ"
      },
      "execution_count": null,
      "outputs": []
    }
  ]
}